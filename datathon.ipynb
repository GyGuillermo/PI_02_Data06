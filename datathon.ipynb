{
 "cells": [
  {
   "cell_type": "code",
   "execution_count": 1,
   "metadata": {},
   "outputs": [],
   "source": [
    "import pandas as pd\n",
    "from sklearn.model_selection import train_test_split\n",
    "from sklearn.linear_model import LogisticRegression\n",
    "from sklearn.metrics import accuracy_score\n",
    "from sklearn.cluster import KMeans\n",
    "from sklearn.metrics import silhouette_score\n"
   ]
  },
  {
   "cell_type": "code",
   "execution_count": 2,
   "metadata": {},
   "outputs": [],
   "source": [
    "# Read the parquet file\n",
    "df_train_d = pd.read_parquet(\"./Datasets/train.parquet\")\n",
    "df_test_d = pd.read_parquet(\"./Datasets/test.parquet\")"
   ]
  },
  {
   "cell_type": "code",
   "execution_count": 3,
   "metadata": {},
   "outputs": [],
   "source": [
    "df_train = df_train_d\n",
    "df_test = df_test_d"
   ]
  },
  {
   "cell_type": "code",
   "execution_count": 4,
   "metadata": {},
   "outputs": [],
   "source": [
    "# Crear la columna category_price en ambos conjuntos de datos\n",
    "df_train[\"category_price\"] = \"\"\n",
    "df_train.loc[df_train[\"price\"] <= 999, \"category_price\"] = \"low\"\n",
    "df_train.loc[(df_train[\"price\"] > 999) & (df_train[\"price\"] <= 1999), \"category_price\"] = \"medium\"\n",
    "df_train.loc[df_train[\"price\"] > 1999, \"category_price\"] = \"high\"\n",
    "\n",
    "# Dividir los datos en variables predictivas y objetivo\n",
    "X_train = df_train.drop([\"price\",\"category_price\"], axis=1)\n",
    "y_train = df_train[\"category_price\"]\n"
   ]
  },
  {
   "cell_type": "code",
   "execution_count": 5,
   "metadata": {},
   "outputs": [],
   "source": [
    "df_train[\"category_price\"] = df_train[\"category_price\"].replace({\"low\": 0, \"medium\": 1, \"high\": 2})\n",
    "\n",
    "df_train[\"type\"] = df_train[\"type\"].factorize()[0]\n",
    "df_train[\"parking_options\"] = df_train[\"parking_options\"].factorize()[0]\n",
    "df_train[\"laundry_options\"] = df_train[\"laundry_options\"].factorize()[0]\n",
    "df_train[\"region\"] = df_train[\"region\"].factorize()[0]\n",
    "df_train[\"state\"] = df_train[\"state\"].factorize()[0]\n",
    "\n",
    "\n",
    "df_test[\"type\"] = df_test[\"type\"].factorize()[0]\n",
    "df_test[\"parking_options\"] = df_test[\"parking_options\"].factorize()[0]\n",
    "df_test[\"laundry_options\"] = df_test[\"laundry_options\"].factorize()[0]\n",
    "df_test[\"region\"] = df_test[\"region\"].factorize()[0]\n",
    "df_test[\"state\"] = df_test[\"state\"].factorize()[0]"
   ]
  },
  {
   "cell_type": "code",
   "execution_count": 6,
   "metadata": {},
   "outputs": [
    {
     "name": "stdout",
     "output_type": "stream",
     "text": [
      "<class 'pandas.core.frame.DataFrame'>\n",
      "RangeIndex: 346479 entries, 0 to 346478\n",
      "Data columns (total 23 columns):\n",
      " #   Column                   Non-Null Count   Dtype  \n",
      "---  ------                   --------------   -----  \n",
      " 0   id                       346479 non-null  int64  \n",
      " 1   url                      346479 non-null  object \n",
      " 2   region                   346479 non-null  int64  \n",
      " 3   region_url               346479 non-null  object \n",
      " 4   price                    346479 non-null  int64  \n",
      " 5   type                     346479 non-null  int64  \n",
      " 6   sqfeet                   346479 non-null  int64  \n",
      " 7   beds                     346479 non-null  int64  \n",
      " 8   baths                    346479 non-null  float64\n",
      " 9   cats_allowed             346479 non-null  int64  \n",
      " 10  dogs_allowed             346479 non-null  int64  \n",
      " 11  smoking_allowed          346479 non-null  int64  \n",
      " 12  wheelchair_access        346479 non-null  int64  \n",
      " 13  electric_vehicle_charge  346479 non-null  int64  \n",
      " 14  comes_furnished          346479 non-null  int64  \n",
      " 15  laundry_options          346479 non-null  int64  \n",
      " 16  parking_options          346479 non-null  int64  \n",
      " 17  image_url                346479 non-null  object \n",
      " 18  description              346477 non-null  object \n",
      " 19  lat                      344757 non-null  float64\n",
      " 20  long                     344757 non-null  float64\n",
      " 21  state                    346479 non-null  int64  \n",
      " 22  category_price           346479 non-null  int64  \n",
      "dtypes: float64(3), int64(16), object(4)\n",
      "memory usage: 60.8+ MB\n"
     ]
    }
   ],
   "source": [
    "# Revisar los tipos de datos y cuantas filas y columnas hay\n",
    "df_train.info()"
   ]
  },
  {
   "cell_type": "code",
   "execution_count": 7,
   "metadata": {},
   "outputs": [
    {
     "data": {
      "text/html": [
       "<div>\n",
       "<style scoped>\n",
       "    .dataframe tbody tr th:only-of-type {\n",
       "        vertical-align: middle;\n",
       "    }\n",
       "\n",
       "    .dataframe tbody tr th {\n",
       "        vertical-align: top;\n",
       "    }\n",
       "\n",
       "    .dataframe thead th {\n",
       "        text-align: right;\n",
       "    }\n",
       "</style>\n",
       "<table border=\"1\" class=\"dataframe\">\n",
       "  <thead>\n",
       "    <tr style=\"text-align: right;\">\n",
       "      <th></th>\n",
       "      <th>id</th>\n",
       "      <th>region</th>\n",
       "      <th>price</th>\n",
       "      <th>type</th>\n",
       "      <th>sqfeet</th>\n",
       "      <th>beds</th>\n",
       "      <th>baths</th>\n",
       "      <th>cats_allowed</th>\n",
       "      <th>dogs_allowed</th>\n",
       "      <th>smoking_allowed</th>\n",
       "      <th>wheelchair_access</th>\n",
       "      <th>electric_vehicle_charge</th>\n",
       "      <th>comes_furnished</th>\n",
       "      <th>laundry_options</th>\n",
       "      <th>parking_options</th>\n",
       "      <th>lat</th>\n",
       "      <th>long</th>\n",
       "      <th>state</th>\n",
       "      <th>category_price</th>\n",
       "    </tr>\n",
       "  </thead>\n",
       "  <tbody>\n",
       "    <tr>\n",
       "      <th>count</th>\n",
       "      <td>3.464790e+05</td>\n",
       "      <td>346479.000000</td>\n",
       "      <td>3.464790e+05</td>\n",
       "      <td>346479.000000</td>\n",
       "      <td>3.464790e+05</td>\n",
       "      <td>346479.000000</td>\n",
       "      <td>346479.000000</td>\n",
       "      <td>346479.000000</td>\n",
       "      <td>346479.000000</td>\n",
       "      <td>346479.000000</td>\n",
       "      <td>346479.00000</td>\n",
       "      <td>346479.000000</td>\n",
       "      <td>346479.000000</td>\n",
       "      <td>346479.000000</td>\n",
       "      <td>346479.000000</td>\n",
       "      <td>344757.000000</td>\n",
       "      <td>344757.000000</td>\n",
       "      <td>346479.000000</td>\n",
       "      <td>346479.000000</td>\n",
       "    </tr>\n",
       "    <tr>\n",
       "      <th>mean</th>\n",
       "      <td>7.040988e+09</td>\n",
       "      <td>122.798424</td>\n",
       "      <td>9.664420e+03</td>\n",
       "      <td>1.257736</td>\n",
       "      <td>1.066326e+03</td>\n",
       "      <td>1.903189</td>\n",
       "      <td>1.480339</td>\n",
       "      <td>0.726803</td>\n",
       "      <td>0.707861</td>\n",
       "      <td>0.731738</td>\n",
       "      <td>0.08197</td>\n",
       "      <td>0.012792</td>\n",
       "      <td>0.048141</td>\n",
       "      <td>0.615677</td>\n",
       "      <td>0.928258</td>\n",
       "      <td>37.234363</td>\n",
       "      <td>-92.705415</td>\n",
       "      <td>19.376037</td>\n",
       "      <td>0.611425</td>\n",
       "    </tr>\n",
       "    <tr>\n",
       "      <th>std</th>\n",
       "      <td>8.802214e+06</td>\n",
       "      <td>83.170694</td>\n",
       "      <td>4.703573e+06</td>\n",
       "      <td>1.266559</td>\n",
       "      <td>2.018537e+04</td>\n",
       "      <td>3.162685</td>\n",
       "      <td>0.608246</td>\n",
       "      <td>0.445602</td>\n",
       "      <td>0.454746</td>\n",
       "      <td>0.443055</td>\n",
       "      <td>0.27432</td>\n",
       "      <td>0.112374</td>\n",
       "      <td>0.214065</td>\n",
       "      <td>1.276577</td>\n",
       "      <td>1.665073</td>\n",
       "      <td>5.550956</td>\n",
       "      <td>16.551071</td>\n",
       "      <td>12.496871</td>\n",
       "      <td>0.622726</td>\n",
       "    </tr>\n",
       "    <tr>\n",
       "      <th>min</th>\n",
       "      <td>7.003808e+09</td>\n",
       "      <td>0.000000</td>\n",
       "      <td>0.000000e+00</td>\n",
       "      <td>0.000000</td>\n",
       "      <td>0.000000e+00</td>\n",
       "      <td>0.000000</td>\n",
       "      <td>0.000000</td>\n",
       "      <td>0.000000</td>\n",
       "      <td>0.000000</td>\n",
       "      <td>0.000000</td>\n",
       "      <td>0.00000</td>\n",
       "      <td>0.000000</td>\n",
       "      <td>0.000000</td>\n",
       "      <td>-1.000000</td>\n",
       "      <td>-1.000000</td>\n",
       "      <td>-43.533300</td>\n",
       "      <td>-163.894000</td>\n",
       "      <td>0.000000</td>\n",
       "      <td>0.000000</td>\n",
       "    </tr>\n",
       "    <tr>\n",
       "      <th>25%</th>\n",
       "      <td>7.035988e+09</td>\n",
       "      <td>53.000000</td>\n",
       "      <td>8.050000e+02</td>\n",
       "      <td>1.000000</td>\n",
       "      <td>7.500000e+02</td>\n",
       "      <td>1.000000</td>\n",
       "      <td>1.000000</td>\n",
       "      <td>0.000000</td>\n",
       "      <td>0.000000</td>\n",
       "      <td>0.000000</td>\n",
       "      <td>0.00000</td>\n",
       "      <td>0.000000</td>\n",
       "      <td>0.000000</td>\n",
       "      <td>0.000000</td>\n",
       "      <td>-1.000000</td>\n",
       "      <td>33.453100</td>\n",
       "      <td>-100.784000</td>\n",
       "      <td>8.000000</td>\n",
       "      <td>0.000000</td>\n",
       "    </tr>\n",
       "    <tr>\n",
       "      <th>50%</th>\n",
       "      <td>7.043325e+09</td>\n",
       "      <td>110.000000</td>\n",
       "      <td>1.036000e+03</td>\n",
       "      <td>1.000000</td>\n",
       "      <td>9.490000e+02</td>\n",
       "      <td>2.000000</td>\n",
       "      <td>1.000000</td>\n",
       "      <td>1.000000</td>\n",
       "      <td>1.000000</td>\n",
       "      <td>1.000000</td>\n",
       "      <td>0.00000</td>\n",
       "      <td>0.000000</td>\n",
       "      <td>0.000000</td>\n",
       "      <td>0.000000</td>\n",
       "      <td>1.000000</td>\n",
       "      <td>37.650100</td>\n",
       "      <td>-87.710800</td>\n",
       "      <td>18.000000</td>\n",
       "      <td>1.000000</td>\n",
       "    </tr>\n",
       "    <tr>\n",
       "      <th>75%</th>\n",
       "      <td>7.048431e+09</td>\n",
       "      <td>179.000000</td>\n",
       "      <td>1.395000e+03</td>\n",
       "      <td>1.000000</td>\n",
       "      <td>1.150000e+03</td>\n",
       "      <td>2.000000</td>\n",
       "      <td>2.000000</td>\n",
       "      <td>1.000000</td>\n",
       "      <td>1.000000</td>\n",
       "      <td>1.000000</td>\n",
       "      <td>0.00000</td>\n",
       "      <td>0.000000</td>\n",
       "      <td>0.000000</td>\n",
       "      <td>2.000000</td>\n",
       "      <td>2.000000</td>\n",
       "      <td>41.137900</td>\n",
       "      <td>-81.174600</td>\n",
       "      <td>29.000000</td>\n",
       "      <td>1.000000</td>\n",
       "    </tr>\n",
       "    <tr>\n",
       "      <th>max</th>\n",
       "      <td>7.051292e+09</td>\n",
       "      <td>403.000000</td>\n",
       "      <td>2.768307e+09</td>\n",
       "      <td>11.000000</td>\n",
       "      <td>8.388607e+06</td>\n",
       "      <td>1100.000000</td>\n",
       "      <td>75.000000</td>\n",
       "      <td>1.000000</td>\n",
       "      <td>1.000000</td>\n",
       "      <td>1.000000</td>\n",
       "      <td>1.00000</td>\n",
       "      <td>1.000000</td>\n",
       "      <td>1.000000</td>\n",
       "      <td>4.000000</td>\n",
       "      <td>6.000000</td>\n",
       "      <td>102.036000</td>\n",
       "      <td>172.633000</td>\n",
       "      <td>50.000000</td>\n",
       "      <td>2.000000</td>\n",
       "    </tr>\n",
       "  </tbody>\n",
       "</table>\n",
       "</div>"
      ],
      "text/plain": [
       "                 id         region         price           type        sqfeet  \\\n",
       "count  3.464790e+05  346479.000000  3.464790e+05  346479.000000  3.464790e+05   \n",
       "mean   7.040988e+09     122.798424  9.664420e+03       1.257736  1.066326e+03   \n",
       "std    8.802214e+06      83.170694  4.703573e+06       1.266559  2.018537e+04   \n",
       "min    7.003808e+09       0.000000  0.000000e+00       0.000000  0.000000e+00   \n",
       "25%    7.035988e+09      53.000000  8.050000e+02       1.000000  7.500000e+02   \n",
       "50%    7.043325e+09     110.000000  1.036000e+03       1.000000  9.490000e+02   \n",
       "75%    7.048431e+09     179.000000  1.395000e+03       1.000000  1.150000e+03   \n",
       "max    7.051292e+09     403.000000  2.768307e+09      11.000000  8.388607e+06   \n",
       "\n",
       "                beds          baths   cats_allowed   dogs_allowed  \\\n",
       "count  346479.000000  346479.000000  346479.000000  346479.000000   \n",
       "mean        1.903189       1.480339       0.726803       0.707861   \n",
       "std         3.162685       0.608246       0.445602       0.454746   \n",
       "min         0.000000       0.000000       0.000000       0.000000   \n",
       "25%         1.000000       1.000000       0.000000       0.000000   \n",
       "50%         2.000000       1.000000       1.000000       1.000000   \n",
       "75%         2.000000       2.000000       1.000000       1.000000   \n",
       "max      1100.000000      75.000000       1.000000       1.000000   \n",
       "\n",
       "       smoking_allowed  wheelchair_access  electric_vehicle_charge  \\\n",
       "count    346479.000000       346479.00000            346479.000000   \n",
       "mean          0.731738            0.08197                 0.012792   \n",
       "std           0.443055            0.27432                 0.112374   \n",
       "min           0.000000            0.00000                 0.000000   \n",
       "25%           0.000000            0.00000                 0.000000   \n",
       "50%           1.000000            0.00000                 0.000000   \n",
       "75%           1.000000            0.00000                 0.000000   \n",
       "max           1.000000            1.00000                 1.000000   \n",
       "\n",
       "       comes_furnished  laundry_options  parking_options            lat  \\\n",
       "count    346479.000000    346479.000000    346479.000000  344757.000000   \n",
       "mean          0.048141         0.615677         0.928258      37.234363   \n",
       "std           0.214065         1.276577         1.665073       5.550956   \n",
       "min           0.000000        -1.000000        -1.000000     -43.533300   \n",
       "25%           0.000000         0.000000        -1.000000      33.453100   \n",
       "50%           0.000000         0.000000         1.000000      37.650100   \n",
       "75%           0.000000         2.000000         2.000000      41.137900   \n",
       "max           1.000000         4.000000         6.000000     102.036000   \n",
       "\n",
       "                long          state  category_price  \n",
       "count  344757.000000  346479.000000   346479.000000  \n",
       "mean      -92.705415      19.376037        0.611425  \n",
       "std        16.551071      12.496871        0.622726  \n",
       "min      -163.894000       0.000000        0.000000  \n",
       "25%      -100.784000       8.000000        0.000000  \n",
       "50%       -87.710800      18.000000        1.000000  \n",
       "75%       -81.174600      29.000000        1.000000  \n",
       "max       172.633000      50.000000        2.000000  "
      ]
     },
     "execution_count": 7,
     "metadata": {},
     "output_type": "execute_result"
    }
   ],
   "source": [
    "# Estadísticas descriptivas del dataset\n",
    "df_train.describe()"
   ]
  },
  {
   "cell_type": "code",
   "execution_count": 8,
   "metadata": {},
   "outputs": [],
   "source": [
    "df_train.drop([\"url\"], axis=1, inplace=True)\n",
    "df_train.drop([\"region_url\"], axis=1, inplace=True)\n",
    "df_train.drop([\"image_url\"], axis=1, inplace=True)\n",
    "df_train.drop([\"lat\"], axis=1, inplace=True)\n",
    "df_train.drop([\"long\"], axis=1, inplace=True)\n",
    "df_train.drop([\"description\"], axis=1, inplace=True)"
   ]
  },
  {
   "cell_type": "code",
   "execution_count": 9,
   "metadata": {},
   "outputs": [],
   "source": [
    "df_test.drop([\"url\"], axis=1, inplace=True)\n",
    "df_test.drop([\"region_url\"], axis=1, inplace=True)\n",
    "df_test.drop([\"image_url\"], axis=1, inplace=True)\n",
    "df_test.drop([\"lat\"], axis=1, inplace=True)\n",
    "df_test.drop([\"long\"], axis=1, inplace=True)\n",
    "df_test.drop([\"description\"], axis=1, inplace=True)"
   ]
  },
  {
   "cell_type": "code",
   "execution_count": 10,
   "metadata": {},
   "outputs": [
    {
     "data": {
      "text/html": [
       "<div>\n",
       "<style scoped>\n",
       "    .dataframe tbody tr th:only-of-type {\n",
       "        vertical-align: middle;\n",
       "    }\n",
       "\n",
       "    .dataframe tbody tr th {\n",
       "        vertical-align: top;\n",
       "    }\n",
       "\n",
       "    .dataframe thead th {\n",
       "        text-align: right;\n",
       "    }\n",
       "</style>\n",
       "<table border=\"1\" class=\"dataframe\">\n",
       "  <thead>\n",
       "    <tr style=\"text-align: right;\">\n",
       "      <th></th>\n",
       "      <th>id</th>\n",
       "      <th>region</th>\n",
       "      <th>price</th>\n",
       "      <th>type</th>\n",
       "      <th>sqfeet</th>\n",
       "      <th>beds</th>\n",
       "      <th>baths</th>\n",
       "      <th>cats_allowed</th>\n",
       "      <th>dogs_allowed</th>\n",
       "      <th>smoking_allowed</th>\n",
       "      <th>wheelchair_access</th>\n",
       "      <th>electric_vehicle_charge</th>\n",
       "      <th>comes_furnished</th>\n",
       "      <th>laundry_options</th>\n",
       "      <th>parking_options</th>\n",
       "      <th>state</th>\n",
       "      <th>category_price</th>\n",
       "    </tr>\n",
       "  </thead>\n",
       "  <tbody>\n",
       "  </tbody>\n",
       "</table>\n",
       "</div>"
      ],
      "text/plain": [
       "Empty DataFrame\n",
       "Columns: [id, region, price, type, sqfeet, beds, baths, cats_allowed, dogs_allowed, smoking_allowed, wheelchair_access, electric_vehicle_charge, comes_furnished, laundry_options, parking_options, state, category_price]\n",
       "Index: []"
      ]
     },
     "execution_count": 10,
     "metadata": {},
     "output_type": "execute_result"
    }
   ],
   "source": [
    "df_train[df_train.duplicated()]"
   ]
  },
  {
   "cell_type": "code",
   "execution_count": 11,
   "metadata": {},
   "outputs": [
    {
     "name": "stdout",
     "output_type": "stream",
     "text": [
      "id                         0\n",
      "region                     0\n",
      "price                      0\n",
      "type                       0\n",
      "sqfeet                     0\n",
      "beds                       0\n",
      "baths                      0\n",
      "cats_allowed               0\n",
      "dogs_allowed               0\n",
      "smoking_allowed            0\n",
      "wheelchair_access          0\n",
      "electric_vehicle_charge    0\n",
      "comes_furnished            0\n",
      "laundry_options            0\n",
      "parking_options            0\n",
      "state                      0\n",
      "category_price             0\n",
      "dtype: int64\n"
     ]
    }
   ],
   "source": [
    "missing_values_count = df_train.isnull().sum()\n",
    "print(missing_values_count)\n"
   ]
  },
  {
   "cell_type": "code",
   "execution_count": 12,
   "metadata": {},
   "outputs": [
    {
     "name": "stdout",
     "output_type": "stream",
     "text": [
      "Porcentaje de valores faltantes de la variable laundry_options: 0.0\n"
     ]
    }
   ],
   "source": [
    "print('Porcentaje de valores faltantes de la variable laundry_options:', \n",
    "(df_train.laundry_options.isnull().sum()/len(df_train)))"
   ]
  },
  {
   "cell_type": "code",
   "execution_count": 13,
   "metadata": {},
   "outputs": [
    {
     "name": "stdout",
     "output_type": "stream",
     "text": [
      "Porcentaje de valores faltantes de la variable parking_options: 0.0\n"
     ]
    }
   ],
   "source": [
    "print('Porcentaje de valores faltantes de la variable parking_options:', \n",
    "(df_train.parking_options.isnull().sum()/len(df_train)))"
   ]
  },
  {
   "cell_type": "code",
   "execution_count": 14,
   "metadata": {},
   "outputs": [],
   "source": [
    "from sklearn.model_selection import train_test_split\n",
    "\n",
    "X = df_train.drop(columns=[\"category_price\", \"price\"])\n",
    "y = df_train[\"category_price\"]\n",
    "X_train, X_test, y_train, y_test = train_test_split(X, y, test_size=0.2)\n"
   ]
  },
  {
   "cell_type": "code",
   "execution_count": 15,
   "metadata": {},
   "outputs": [],
   "source": [
    "from sklearn.ensemble import RandomForestClassifier\n",
    "\n",
    "model = RandomForestClassifier()\n",
    "model.fit(X_train, y_train)\n",
    "\n",
    "y_pred = model.predict(X_test)"
   ]
  },
  {
   "cell_type": "code",
   "execution_count": 16,
   "metadata": {},
   "outputs": [
    {
     "name": "stdout",
     "output_type": "stream",
     "text": [
      "0.9075704225352113\n"
     ]
    }
   ],
   "source": [
    "from sklearn.metrics import accuracy_score\n",
    "accuracy = accuracy_score(y_test, y_pred)\n",
    "print(accuracy)\n"
   ]
  },
  {
   "cell_type": "code",
   "execution_count": 17,
   "metadata": {},
   "outputs": [],
   "source": [
    "category_dict = {0: 'low', 1: 'medium', 2: 'high'}\n",
    "\n",
    "predictions = pd.DataFrame(y_pred, columns=['pred'])\n",
    "predictions['pred'] = predictions['pred'].map(category_dict)\n",
    "predictions.to_csv(\"GyGuillermo.csv\", index=False)"
   ]
  },
  {
   "cell_type": "code",
   "execution_count": null,
   "metadata": {},
   "outputs": [],
   "source": [
    "df_train.head(3)"
   ]
  },
  {
   "cell_type": "code",
   "execution_count": null,
   "metadata": {},
   "outputs": [],
   "source": [
    "df_test.head(3)"
   ]
  },
  {
   "cell_type": "code",
   "execution_count": 39,
   "metadata": {},
   "outputs": [
    {
     "name": "stdout",
     "output_type": "stream",
     "text": [
      "(346479, 17) (38498, 15)\n"
     ]
    }
   ],
   "source": [
    "print(df_train.shape,df_test.shape)\n"
   ]
  },
  {
   "cell_type": "code",
   "execution_count": 22,
   "metadata": {},
   "outputs": [
    {
     "name": "stdout",
     "output_type": "stream",
     "text": [
      "Accuracy: 46.43%\n"
     ]
    }
   ],
   "source": [
    "# Entrenar el modelo de clasificación con aprendizaje supervisado\n",
    "clf = LogisticRegression(solver='lbfgs')\n",
    "clf.fit(X_train, y_train)\n",
    "\n",
    "# Hacer predicciones con el modelo entrenado\n",
    "y_pred = clf.predict(X_test)\n",
    "\n",
    "# calcular la precisión\n",
    "acc = accuracy_score(y_test, y_pred)\n",
    "print(\"Accuracy: {:.2f}%\".format(acc * 100))\n",
    "\n"
   ]
  },
  {
   "cell_type": "code",
   "execution_count": null,
   "metadata": {},
   "outputs": [],
   "source": [
    "# Eliminar las características con valores nulos\n",
    "#X_test = X_test.dropna(axis=1)\n",
    "\n",
    "# Entrenar el modelo de clustering no supervisado\n",
    "kmeans = KMeans(n_clusters=3)\n",
    "kmeans.fit(X_test)\n"
   ]
  },
  {
   "cell_type": "code",
   "execution_count": null,
   "metadata": {},
   "outputs": [],
   "source": []
  },
  {
   "cell_type": "code",
   "execution_count": null,
   "metadata": {},
   "outputs": [],
   "source": [
    "#Evaluar el rendimiento del modelo de clustering utilizando la métrica Silhouette Score\n",
    "silhouette = silhouette_score(X_test, kmeans.labels_)\n",
    "print(\"Silhouette Score: {:.2f}\".format(silhouette))\n",
    "\n"
   ]
  },
  {
   "cell_type": "code",
   "execution_count": null,
   "metadata": {},
   "outputs": [],
   "source": [
    "#Generar un archivo .csv con las predicciones del modelo de clasificación supervisado\n",
    "predictions = pd.DataFrame(y_pred, columns=['pred'])\n",
    "predictions.to_csv(\"supervised_predictions.csv\", index=False)\n",
    "\n",
    "#Generar un archivo .csv con las predicciones del modelo de clustering no supervisado\n",
    "# \n",
    "cluster_predictions = pd.DataFrame(kmeans.labels_, columns=['pred'])\n",
    "cluster_predictions.to_csv(\"unsupervised_predictions.csv\", index=False)"
   ]
  }
 ],
 "metadata": {
  "kernelspec": {
   "display_name": "Python 3",
   "language": "python",
   "name": "python3"
  },
  "language_info": {
   "codemirror_mode": {
    "name": "ipython",
    "version": 3
   },
   "file_extension": ".py",
   "mimetype": "text/x-python",
   "name": "python",
   "nbconvert_exporter": "python",
   "pygments_lexer": "ipython3",
   "version": "3.10.6"
  },
  "orig_nbformat": 4,
  "vscode": {
   "interpreter": {
    "hash": "916dbcbb3f70747c44a77c7bcd40155683ae19c65e1c03b4aa3499c5328201f1"
   }
  }
 },
 "nbformat": 4,
 "nbformat_minor": 2
}
